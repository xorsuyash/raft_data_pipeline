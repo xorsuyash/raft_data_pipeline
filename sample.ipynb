{
 "cells": [
  {
   "cell_type": "code",
   "execution_count": 6,
   "metadata": {},
   "outputs": [
    {
     "name": "stderr",
     "output_type": "stream",
     "text": [
      "/home/suyash/miniconda3/envs/RAFT/lib/python3.12/site-packages/tqdm/auto.py:21: TqdmWarning: IProgress not found. Please update jupyter and ipywidgets. See https://ipywidgets.readthedocs.io/en/stable/user_install.html\n",
      "  from .autonotebook import tqdm as notebook_tqdm\n"
     ]
    }
   ],
   "source": [
    "import gdown\n",
    "import pandas as pd \n",
    "from datasets import load_dataset"
   ]
  },
  {
   "cell_type": "code",
   "execution_count": 12,
   "metadata": {},
   "outputs": [],
   "source": [
    "file_url = 'https://drive.google.com/uc?id=1VlLcGWmDKAoK3aUthVXOFxzOdgzf-SNo'\n",
    "destination = 'datasets/Testing1.csv'\n",
    "#gdown.download(file_url, destination, quiet=False)\n",
    "raw_df = pd.read_csv(destination)\n",
    "raw_df['PID']  = raw_df.index.astype(str)"
   ]
  },
  {
   "cell_type": "code",
   "execution_count": 5,
   "metadata": {},
   "outputs": [
    {
     "data": {
      "text/html": [
       "<div>\n",
       "<style scoped>\n",
       "    .dataframe tbody tr th:only-of-type {\n",
       "        vertical-align: middle;\n",
       "    }\n",
       "\n",
       "    .dataframe tbody tr th {\n",
       "        vertical-align: top;\n",
       "    }\n",
       "\n",
       "    .dataframe thead th {\n",
       "        text-align: right;\n",
       "    }\n",
       "</style>\n",
       "<table border=\"1\" class=\"dataframe\">\n",
       "  <thead>\n",
       "    <tr style=\"text-align: right;\">\n",
       "      <th></th>\n",
       "      <th>contentEmbedding</th>\n",
       "      <th>headingEmbedding</th>\n",
       "      <th>summaryEmbedding</th>\n",
       "      <th>chunkId</th>\n",
       "      <th>id</th>\n",
       "      <th>metaData</th>\n",
       "      <th>content</th>\n",
       "      <th>heading</th>\n",
       "      <th>image</th>\n",
       "      <th>pdfName</th>\n",
       "      <th>summary</th>\n",
       "      <th>type</th>\n",
       "      <th>createdAt</th>\n",
       "      <th>updatedAt</th>\n",
       "      <th>pdfId</th>\n",
       "      <th>userId</th>\n",
       "      <th>PID</th>\n",
       "    </tr>\n",
       "  </thead>\n",
       "  <tbody>\n",
       "    <tr>\n",
       "      <th>0</th>\n",
       "      <td>[-0.008306029,-0.010566313,-0.0044381265,-0.02...</td>\n",
       "      <td>[-0.008529991,-0.013875452,-0.008998305,-0.015...</td>\n",
       "      <td>[0.005171468,-0.016889796,-0.0038167087,-0.010...</td>\n",
       "      <td>2</td>\n",
       "      <td>8</td>\n",
       "      <td>{\\n  'endPage': '4',\\n  'startPage': '4'\\n}</td>\n",
       "      <td>'5. Mealy bug , Brevennia rehi , Pseudococcida...</td>\n",
       "      <td>'4. Whitebacked planthopper, Sogatella furcife...</td>\n",
       "      <td>NaN</td>\n",
       "      <td>NaN</td>\n",
       "      <td>'The whitebacked planthopper, Sogatella furcif...</td>\n",
       "      <td>NaN</td>\n",
       "      <td>'2023-11-21T06:43:04.36+00:00'</td>\n",
       "      <td>'2023-11-21T06:43:04.36'</td>\n",
       "      <td>NaN</td>\n",
       "      <td>NaN</td>\n",
       "      <td>0</td>\n",
       "    </tr>\n",
       "  </tbody>\n",
       "</table>\n",
       "</div>"
      ],
      "text/plain": [
       "                                    contentEmbedding  ... PID\n",
       "0  [-0.008306029,-0.010566313,-0.0044381265,-0.02...  ...   0\n",
       "\n",
       "[1 rows x 17 columns]"
      ]
     },
     "execution_count": 5,
     "metadata": {},
     "output_type": "execute_result"
    }
   ],
   "source": [
    "raw_df.head(1)"
   ]
  },
  {
   "cell_type": "code",
   "execution_count": 13,
   "metadata": {},
   "outputs": [],
   "source": [
    "#datadict\n",
    "keys=raw_df[\"id\"]\n",
    "values=raw_df[\"content\"]\n",
    "data_dict={k:v for k,v in zip(keys,values)}"
   ]
  },
  {
   "cell_type": "markdown",
   "metadata": {},
   "source": [
    "# EVAL_DATASET "
   ]
  },
  {
   "cell_type": "code",
   "execution_count": 7,
   "metadata": {},
   "outputs": [],
   "source": [
    "eval_df=load_dataset(\"SoorajK1/questions_and_answers\",split=\"validation\")"
   ]
  },
  {
   "cell_type": "code",
   "execution_count": 8,
   "metadata": {},
   "outputs": [
    {
     "data": {
      "text/plain": [
       "2830"
      ]
     },
     "execution_count": 8,
     "metadata": {},
     "output_type": "execute_result"
    }
   ],
   "source": [
    "eval_df=pd.DataFrame(eval_df)\n",
    "len(eval_df)"
   ]
  },
  {
   "cell_type": "code",
   "execution_count": 10,
   "metadata": {},
   "outputs": [],
   "source": [
    "oracle_context_list=[]\n",
    "for id in eval_df[\"content_row\"]:\n",
    "  oracle_context_list.append(data_dict[id])"
   ]
  },
  {
   "cell_type": "code",
   "execution_count": 11,
   "metadata": {},
   "outputs": [
    {
     "data": {
      "text/plain": [
       "2830"
      ]
     },
     "execution_count": 11,
     "metadata": {},
     "output_type": "execute_result"
    }
   ],
   "source": [
    "len(oracle_context_list)"
   ]
  },
  {
   "cell_type": "code",
   "execution_count": 12,
   "metadata": {},
   "outputs": [],
   "source": [
    "eval_df[\"oracle_context\"]=oracle_context_list"
   ]
  },
  {
   "cell_type": "code",
   "execution_count": 17,
   "metadata": {},
   "outputs": [],
   "source": [
    "from dataset import generate_dataset"
   ]
  },
  {
   "cell_type": "code",
   "execution_count": 14,
   "metadata": {},
   "outputs": [
    {
     "name": "stderr",
     "output_type": "stream",
     "text": [
      "100%|██████████| 2830/2830 [00:00<00:00, 13704.07it/s]\n"
     ]
    },
    {
     "name": "stdout",
     "output_type": "stream",
     "text": [
      "Dataset generated and saved at datasets/raft_validationp1.csv\n"
     ]
    }
   ],
   "source": [
    "eval_df=generate_dataset(eval_df,\"datasets/raft_validationp1.csv\")\n"
   ]
  },
  {
   "cell_type": "code",
   "execution_count": 16,
   "metadata": {},
   "outputs": [],
   "source": [
    "eval_df=pd.read_csv(\"datasets/raft_validationp1.csv\",delimiter=\",\")"
   ]
  },
  {
   "cell_type": "code",
   "execution_count": 17,
   "metadata": {},
   "outputs": [
    {
     "data": {
      "text/plain": [
       "Index(['Unnamed: 0.1', 'Unnamed: 0', 'question', 'answer', 'content_row',\n",
       "       'oracle_context', 'instructions', 'distractors'],\n",
       "      dtype='object')"
      ]
     },
     "execution_count": 17,
     "metadata": {},
     "output_type": "execute_result"
    }
   ],
   "source": [
    "eval_df.columns "
   ]
  },
  {
   "cell_type": "markdown",
   "metadata": {},
   "source": [
    "# test_dataset\n"
   ]
  },
  {
   "cell_type": "code",
   "execution_count": 7,
   "metadata": {},
   "outputs": [],
   "source": [
    "test_df=load_dataset(\"SoorajK1/questions_and_answers\",split=\"test\")"
   ]
  },
  {
   "cell_type": "code",
   "execution_count": 9,
   "metadata": {},
   "outputs": [
    {
     "data": {
      "text/plain": [
       "2830"
      ]
     },
     "execution_count": 9,
     "metadata": {},
     "output_type": "execute_result"
    }
   ],
   "source": [
    "test_df=pd.DataFrame(test_df)\n",
    "len(test_df)"
   ]
  },
  {
   "cell_type": "code",
   "execution_count": 14,
   "metadata": {},
   "outputs": [],
   "source": [
    "oracle_context_list=[]\n",
    "for id in test_df[\"content_row\"]:\n",
    "  oracle_context_list.append(data_dict[id])"
   ]
  },
  {
   "cell_type": "code",
   "execution_count": 15,
   "metadata": {},
   "outputs": [],
   "source": [
    "test_df[\"oracle_context\"]=oracle_context_list"
   ]
  },
  {
   "cell_type": "code",
   "execution_count": 23,
   "metadata": {},
   "outputs": [
    {
     "name": "stderr",
     "output_type": "stream",
     "text": [
      "  0%|          | 0/2830 [00:00<?, ?it/s]"
     ]
    },
    {
     "name": "stderr",
     "output_type": "stream",
     "text": [
      "100%|██████████| 2830/2830 [00:00<00:00, 16612.20it/s]\n"
     ]
    },
    {
     "name": "stdout",
     "output_type": "stream",
     "text": [
      "Dataset generated and saved at datasets/testp1.csv\n"
     ]
    }
   ],
   "source": [
    "test_df=generate_dataset(test_df,\"datasets/testp1.csv\")\n"
   ]
  },
  {
   "cell_type": "code",
   "execution_count": 26,
   "metadata": {},
   "outputs": [],
   "source": [
    "test_df=pd.read_csv(\"datasets/testp1.csv\",delimiter=\",\")"
   ]
  },
  {
   "cell_type": "code",
   "execution_count": 27,
   "metadata": {},
   "outputs": [
    {
     "data": {
      "text/plain": [
       "Index(['Unnamed: 0.1', 'Unnamed: 0', 'question', 'answer', 'content_row',\n",
       "       'oracle_context', 'instructions', 'distractors'],\n",
       "      dtype='object')"
      ]
     },
     "execution_count": 27,
     "metadata": {},
     "output_type": "execute_result"
    }
   ],
   "source": [
    "test_df.columns "
   ]
  },
  {
   "cell_type": "code",
   "execution_count": 21,
   "metadata": {},
   "outputs": [],
   "source": [
    "test_df=test_df.drop(columns=['Unnamed: 0.2','Unnamed: 0.1'])"
   ]
  },
  {
   "cell_type": "code",
   "execution_count": 22,
   "metadata": {},
   "outputs": [
    {
     "data": {
      "text/plain": [
       "Index(['Unnamed: 0', 'question', 'answer', 'content_row', 'oracle_context',\n",
       "       'instructions', 'distractors'],\n",
       "      dtype='object')"
      ]
     },
     "execution_count": 22,
     "metadata": {},
     "output_type": "execute_result"
    }
   ],
   "source": [
    "test_df.columns "
   ]
  },
  {
   "cell_type": "code",
   "execution_count": 29,
   "metadata": {},
   "outputs": [
    {
     "data": {
      "text/html": [
       "<div>\n",
       "<style scoped>\n",
       "    .dataframe tbody tr th:only-of-type {\n",
       "        vertical-align: middle;\n",
       "    }\n",
       "\n",
       "    .dataframe tbody tr th {\n",
       "        vertical-align: top;\n",
       "    }\n",
       "\n",
       "    .dataframe thead th {\n",
       "        text-align: right;\n",
       "    }\n",
       "</style>\n",
       "<table border=\"1\" class=\"dataframe\">\n",
       "  <thead>\n",
       "    <tr style=\"text-align: right;\">\n",
       "      <th></th>\n",
       "      <th>Unnamed: 0.1</th>\n",
       "      <th>Unnamed: 0</th>\n",
       "      <th>question</th>\n",
       "      <th>answer</th>\n",
       "      <th>content_row</th>\n",
       "      <th>oracle_context</th>\n",
       "      <th>instructions</th>\n",
       "      <th>distractors</th>\n",
       "    </tr>\n",
       "  </thead>\n",
       "  <tbody>\n",
       "    <tr>\n",
       "      <th>0</th>\n",
       "      <td>0</td>\n",
       "      <td>0</td>\n",
       "      <td>Can any Android App be used for collecting dat...</td>\n",
       "      <td>The text mentions using a specific Android App...</td>\n",
       "      <td>3262</td>\n",
       "      <td>'collect the data using Smartphone based Andro...</td>\n",
       "      <td>&lt;DOCUMENT&gt;'y The seed rate for bhendi is 18-20...</td>\n",
       "      <td>{'title': [['placeholder_title', 'placeholder_...</td>\n",
       "    </tr>\n",
       "    <tr>\n",
       "      <th>1</th>\n",
       "      <td>1</td>\n",
       "      <td>1</td>\n",
       "      <td>In what format should weather parameters be re...</td>\n",
       "      <td>Weather parameters should be recorded in a dig...</td>\n",
       "      <td>3245</td>\n",
       "      <td>'available, at least at Taluka /block level). ...</td>\n",
       "      <td>&lt;DOCUMENT&gt;'29.5.4  Firing/Drying Once optimum ...</td>\n",
       "      <td>{'title': [['placeholder_title', 'placeholder_...</td>\n",
       "    </tr>\n",
       "    <tr>\n",
       "      <th>2</th>\n",
       "      <td>2</td>\n",
       "      <td>2</td>\n",
       "      <td>How does the local IMD office contribute to ag...</td>\n",
       "      <td>The local IMD (India Meteorological Department...</td>\n",
       "      <td>3263</td>\n",
       "      <td>'level organizations, such as Agricultural Uni...</td>\n",
       "      <td>&lt;DOCUMENT&gt;'......................................</td>\n",
       "      <td>{'title': [['placeholder_title', 'placeholder_...</td>\n",
       "    </tr>\n",
       "    <tr>\n",
       "      <th>3</th>\n",
       "      <td>3</td>\n",
       "      <td>3</td>\n",
       "      <td>What is the recommended coverage percentage fo...</td>\n",
       "      <td>The recommended coverage percentage for the IU...</td>\n",
       "      <td>3241</td>\n",
       "      <td>'number and following the standard protocol, i...</td>\n",
       "      <td>&lt;DOCUMENT&gt;'number and following the standard p...</td>\n",
       "      <td>{'title': [['placeholder_title', 'placeholder_...</td>\n",
       "    </tr>\n",
       "    <tr>\n",
       "      <th>4</th>\n",
       "      <td>4</td>\n",
       "      <td>4</td>\n",
       "      <td>When can the case be escalated to TAC (Technic...</td>\n",
       "      <td>If the yield dispute case stands unresolved ev...</td>\n",
       "      <td>3237</td>\n",
       "      <td>'19.1   It has been seen, during first two yea...</td>\n",
       "      <td>&lt;DOCUMENT&gt;'19.1   It has been seen, during fir...</td>\n",
       "      <td>{'title': [['placeholder_title', 'placeholder_...</td>\n",
       "    </tr>\n",
       "    <tr>\n",
       "      <th>...</th>\n",
       "      <td>...</td>\n",
       "      <td>...</td>\n",
       "      <td>...</td>\n",
       "      <td>...</td>\n",
       "      <td>...</td>\n",
       "      <td>...</td>\n",
       "      <td>...</td>\n",
       "      <td>...</td>\n",
       "    </tr>\n",
       "    <tr>\n",
       "      <th>2825</th>\n",
       "      <td>2825</td>\n",
       "      <td>2825</td>\n",
       "      <td>Can you provide an example of a calcium salt u...</td>\n",
       "      <td>Yes, one example of a calcium salt used in jam...</td>\n",
       "      <td>1456</td>\n",
       "      <td>'LMP containing pectic acids are extracted wit...</td>\n",
       "      <td>&lt;DOCUMENT&gt;'Section 8 Company is preferred as c...</td>\n",
       "      <td>{'title': [['placeholder_title', 'placeholder_...</td>\n",
       "    </tr>\n",
       "    <tr>\n",
       "      <th>2826</th>\n",
       "      <td>2826</td>\n",
       "      <td>2826</td>\n",
       "      <td>How does copper sulphate solution help in pest...</td>\n",
       "      <td>Copper sulphate solution is a chemical substan...</td>\n",
       "      <td>183</td>\n",
       "      <td>'Cultural : They can be handpicked and killed....</td>\n",
       "      <td>&lt;DOCUMENT&gt;'Sugar 55 parts of sugar is required...</td>\n",
       "      <td>{'title': [['placeholder_title', 'placeholder_...</td>\n",
       "    </tr>\n",
       "    <tr>\n",
       "      <th>2827</th>\n",
       "      <td>2827</td>\n",
       "      <td>2827</td>\n",
       "      <td>What is the characteristic movement of adult i...</td>\n",
       "      <td>Adult insects have a characteristic diagonal m...</td>\n",
       "      <td>4</td>\n",
       "      <td>'Adult: Adults are 3-5 mm long, bright green w...</td>\n",
       "      <td>&lt;DOCUMENT&gt;'The IFOAM definition of Organic agr...</td>\n",
       "      <td>{'title': [['placeholder_title', 'placeholder_...</td>\n",
       "    </tr>\n",
       "    <tr>\n",
       "      <th>2828</th>\n",
       "      <td>2828</td>\n",
       "      <td>2828</td>\n",
       "      <td>What does the house sparrow feed on?</td>\n",
       "      <td>The house sparrow feeds on grains of maize.</td>\n",
       "      <td>178</td>\n",
       "      <td>'3. House sparrow , Passer domesticus , Plocei...</td>\n",
       "      <td>&lt;DOCUMENT&gt;'3. House sparrow , Passer domesticu...</td>\n",
       "      <td>{'title': [['placeholder_title', 'placeholder_...</td>\n",
       "    </tr>\n",
       "    <tr>\n",
       "      <th>2829</th>\n",
       "      <td>2829</td>\n",
       "      <td>2829</td>\n",
       "      <td>What is Mealy bug?</td>\n",
       "      <td>Mealy bug is an insect, scientifically known a...</td>\n",
       "      <td>8</td>\n",
       "      <td>'5. Mealy bug , Brevennia rehi , Pseudococcida...</td>\n",
       "      <td>&lt;DOCUMENT&gt;'5. Mealy bug , Brevennia rehi , Pse...</td>\n",
       "      <td>{'title': [['placeholder_title', 'placeholder_...</td>\n",
       "    </tr>\n",
       "  </tbody>\n",
       "</table>\n",
       "<p>2830 rows × 8 columns</p>\n",
       "</div>"
      ],
      "text/plain": [
       "      Unnamed: 0.1  ...                                        distractors\n",
       "0                0  ...  {'title': [['placeholder_title', 'placeholder_...\n",
       "1                1  ...  {'title': [['placeholder_title', 'placeholder_...\n",
       "2                2  ...  {'title': [['placeholder_title', 'placeholder_...\n",
       "3                3  ...  {'title': [['placeholder_title', 'placeholder_...\n",
       "4                4  ...  {'title': [['placeholder_title', 'placeholder_...\n",
       "...            ...  ...                                                ...\n",
       "2825          2825  ...  {'title': [['placeholder_title', 'placeholder_...\n",
       "2826          2826  ...  {'title': [['placeholder_title', 'placeholder_...\n",
       "2827          2827  ...  {'title': [['placeholder_title', 'placeholder_...\n",
       "2828          2828  ...  {'title': [['placeholder_title', 'placeholder_...\n",
       "2829          2829  ...  {'title': [['placeholder_title', 'placeholder_...\n",
       "\n",
       "[2830 rows x 8 columns]"
      ]
     },
     "execution_count": 29,
     "metadata": {},
     "output_type": "execute_result"
    }
   ],
   "source": [
    "test_df.drop(columns=['Unnamed: 0.2'])"
   ]
  },
  {
   "cell_type": "code",
   "execution_count": 30,
   "metadata": {},
   "outputs": [],
   "source": [
    "test_df.to_csv(\"datasets/test_dfp1.csv\")"
   ]
  },
  {
   "cell_type": "code",
   "execution_count": 31,
   "metadata": {},
   "outputs": [
    {
     "data": {
      "text/plain": [
       "Index(['Unnamed: 0.1', 'Unnamed: 0', 'question', 'answer', 'content_row',\n",
       "       'oracle_context', 'instructions', 'distractors'],\n",
       "      dtype='object')"
      ]
     },
     "execution_count": 31,
     "metadata": {},
     "output_type": "execute_result"
    }
   ],
   "source": [
    "eval_df.columns \n"
   ]
  },
  {
   "cell_type": "code",
   "execution_count": 32,
   "metadata": {},
   "outputs": [
    {
     "data": {
      "text/plain": [
       "Index(['Unnamed: 0.2', 'Unnamed: 0.1', 'Unnamed: 0', 'question', 'answer',\n",
       "       'content_row', 'oracle_context', 'instructions', 'distractors'],\n",
       "      dtype='object')"
      ]
     },
     "execution_count": 32,
     "metadata": {},
     "output_type": "execute_result"
    }
   ],
   "source": [
    "test_df.columns "
   ]
  },
  {
   "cell_type": "code",
   "execution_count": 33,
   "metadata": {},
   "outputs": [
    {
     "data": {
      "text/html": [
       "<div>\n",
       "<style scoped>\n",
       "    .dataframe tbody tr th:only-of-type {\n",
       "        vertical-align: middle;\n",
       "    }\n",
       "\n",
       "    .dataframe tbody tr th {\n",
       "        vertical-align: top;\n",
       "    }\n",
       "\n",
       "    .dataframe thead th {\n",
       "        text-align: right;\n",
       "    }\n",
       "</style>\n",
       "<table border=\"1\" class=\"dataframe\">\n",
       "  <thead>\n",
       "    <tr style=\"text-align: right;\">\n",
       "      <th></th>\n",
       "      <th>Unnamed: 0.1</th>\n",
       "      <th>Unnamed: 0</th>\n",
       "      <th>question</th>\n",
       "      <th>answer</th>\n",
       "      <th>content_row</th>\n",
       "      <th>oracle_context</th>\n",
       "      <th>instructions</th>\n",
       "      <th>distractors</th>\n",
       "    </tr>\n",
       "  </thead>\n",
       "  <tbody>\n",
       "    <tr>\n",
       "      <th>0</th>\n",
       "      <td>0</td>\n",
       "      <td>0</td>\n",
       "      <td>Can any Android App be used for collecting dat...</td>\n",
       "      <td>The text mentions using a specific Android App...</td>\n",
       "      <td>3262</td>\n",
       "      <td>'collect the data using Smartphone based Andro...</td>\n",
       "      <td>&lt;DOCUMENT&gt;'y The seed rate for bhendi is 18-20...</td>\n",
       "      <td>{'title': [['placeholder_title', 'placeholder_...</td>\n",
       "    </tr>\n",
       "    <tr>\n",
       "      <th>1</th>\n",
       "      <td>1</td>\n",
       "      <td>1</td>\n",
       "      <td>In what format should weather parameters be re...</td>\n",
       "      <td>Weather parameters should be recorded in a dig...</td>\n",
       "      <td>3245</td>\n",
       "      <td>'available, at least at Taluka /block level). ...</td>\n",
       "      <td>&lt;DOCUMENT&gt;'29.5.4  Firing/Drying Once optimum ...</td>\n",
       "      <td>{'title': [['placeholder_title', 'placeholder_...</td>\n",
       "    </tr>\n",
       "    <tr>\n",
       "      <th>2</th>\n",
       "      <td>2</td>\n",
       "      <td>2</td>\n",
       "      <td>How does the local IMD office contribute to ag...</td>\n",
       "      <td>The local IMD (India Meteorological Department...</td>\n",
       "      <td>3263</td>\n",
       "      <td>'level organizations, such as Agricultural Uni...</td>\n",
       "      <td>&lt;DOCUMENT&gt;'......................................</td>\n",
       "      <td>{'title': [['placeholder_title', 'placeholder_...</td>\n",
       "    </tr>\n",
       "    <tr>\n",
       "      <th>3</th>\n",
       "      <td>3</td>\n",
       "      <td>3</td>\n",
       "      <td>What is the recommended coverage percentage fo...</td>\n",
       "      <td>The recommended coverage percentage for the IU...</td>\n",
       "      <td>3241</td>\n",
       "      <td>'number and following the standard protocol, i...</td>\n",
       "      <td>&lt;DOCUMENT&gt;'number and following the standard p...</td>\n",
       "      <td>{'title': [['placeholder_title', 'placeholder_...</td>\n",
       "    </tr>\n",
       "    <tr>\n",
       "      <th>4</th>\n",
       "      <td>4</td>\n",
       "      <td>4</td>\n",
       "      <td>When can the case be escalated to TAC (Technic...</td>\n",
       "      <td>If the yield dispute case stands unresolved ev...</td>\n",
       "      <td>3237</td>\n",
       "      <td>'19.1   It has been seen, during first two yea...</td>\n",
       "      <td>&lt;DOCUMENT&gt;'19.1   It has been seen, during fir...</td>\n",
       "      <td>{'title': [['placeholder_title', 'placeholder_...</td>\n",
       "    </tr>\n",
       "    <tr>\n",
       "      <th>...</th>\n",
       "      <td>...</td>\n",
       "      <td>...</td>\n",
       "      <td>...</td>\n",
       "      <td>...</td>\n",
       "      <td>...</td>\n",
       "      <td>...</td>\n",
       "      <td>...</td>\n",
       "      <td>...</td>\n",
       "    </tr>\n",
       "    <tr>\n",
       "      <th>2825</th>\n",
       "      <td>2825</td>\n",
       "      <td>2825</td>\n",
       "      <td>Can you provide an example of a calcium salt u...</td>\n",
       "      <td>Yes, one example of a calcium salt used in jam...</td>\n",
       "      <td>1456</td>\n",
       "      <td>'LMP containing pectic acids are extracted wit...</td>\n",
       "      <td>&lt;DOCUMENT&gt;'Section 8 Company is preferred as c...</td>\n",
       "      <td>{'title': [['placeholder_title', 'placeholder_...</td>\n",
       "    </tr>\n",
       "    <tr>\n",
       "      <th>2826</th>\n",
       "      <td>2826</td>\n",
       "      <td>2826</td>\n",
       "      <td>How does copper sulphate solution help in pest...</td>\n",
       "      <td>Copper sulphate solution is a chemical substan...</td>\n",
       "      <td>183</td>\n",
       "      <td>'Cultural : They can be handpicked and killed....</td>\n",
       "      <td>&lt;DOCUMENT&gt;'Sugar 55 parts of sugar is required...</td>\n",
       "      <td>{'title': [['placeholder_title', 'placeholder_...</td>\n",
       "    </tr>\n",
       "    <tr>\n",
       "      <th>2827</th>\n",
       "      <td>2827</td>\n",
       "      <td>2827</td>\n",
       "      <td>What is the characteristic movement of adult i...</td>\n",
       "      <td>Adult insects have a characteristic diagonal m...</td>\n",
       "      <td>4</td>\n",
       "      <td>'Adult: Adults are 3-5 mm long, bright green w...</td>\n",
       "      <td>&lt;DOCUMENT&gt;'The IFOAM definition of Organic agr...</td>\n",
       "      <td>{'title': [['placeholder_title', 'placeholder_...</td>\n",
       "    </tr>\n",
       "    <tr>\n",
       "      <th>2828</th>\n",
       "      <td>2828</td>\n",
       "      <td>2828</td>\n",
       "      <td>What does the house sparrow feed on?</td>\n",
       "      <td>The house sparrow feeds on grains of maize.</td>\n",
       "      <td>178</td>\n",
       "      <td>'3. House sparrow , Passer domesticus , Plocei...</td>\n",
       "      <td>&lt;DOCUMENT&gt;'3. House sparrow , Passer domesticu...</td>\n",
       "      <td>{'title': [['placeholder_title', 'placeholder_...</td>\n",
       "    </tr>\n",
       "    <tr>\n",
       "      <th>2829</th>\n",
       "      <td>2829</td>\n",
       "      <td>2829</td>\n",
       "      <td>What is Mealy bug?</td>\n",
       "      <td>Mealy bug is an insect, scientifically known a...</td>\n",
       "      <td>8</td>\n",
       "      <td>'5. Mealy bug , Brevennia rehi , Pseudococcida...</td>\n",
       "      <td>&lt;DOCUMENT&gt;'5. Mealy bug , Brevennia rehi , Pse...</td>\n",
       "      <td>{'title': [['placeholder_title', 'placeholder_...</td>\n",
       "    </tr>\n",
       "  </tbody>\n",
       "</table>\n",
       "<p>2830 rows × 8 columns</p>\n",
       "</div>"
      ],
      "text/plain": [
       "      Unnamed: 0.1  ...                                        distractors\n",
       "0                0  ...  {'title': [['placeholder_title', 'placeholder_...\n",
       "1                1  ...  {'title': [['placeholder_title', 'placeholder_...\n",
       "2                2  ...  {'title': [['placeholder_title', 'placeholder_...\n",
       "3                3  ...  {'title': [['placeholder_title', 'placeholder_...\n",
       "4                4  ...  {'title': [['placeholder_title', 'placeholder_...\n",
       "...            ...  ...                                                ...\n",
       "2825          2825  ...  {'title': [['placeholder_title', 'placeholder_...\n",
       "2826          2826  ...  {'title': [['placeholder_title', 'placeholder_...\n",
       "2827          2827  ...  {'title': [['placeholder_title', 'placeholder_...\n",
       "2828          2828  ...  {'title': [['placeholder_title', 'placeholder_...\n",
       "2829          2829  ...  {'title': [['placeholder_title', 'placeholder_...\n",
       "\n",
       "[2830 rows x 8 columns]"
      ]
     },
     "execution_count": 33,
     "metadata": {},
     "output_type": "execute_result"
    }
   ],
   "source": [
    "test_df.drop(columns=['Unnamed: 0.2'])"
   ]
  },
  {
   "cell_type": "code",
   "execution_count": 34,
   "metadata": {},
   "outputs": [
    {
     "data": {
      "text/plain": [
       "Index(['Unnamed: 0.2', 'Unnamed: 0.1', 'Unnamed: 0', 'question', 'answer',\n",
       "       'content_row', 'oracle_context', 'instructions', 'distractors'],\n",
       "      dtype='object')"
      ]
     },
     "execution_count": 34,
     "metadata": {},
     "output_type": "execute_result"
    }
   ],
   "source": [
    "test_df.columns "
   ]
  },
  {
   "cell_type": "code",
   "execution_count": null,
   "metadata": {},
   "outputs": [],
   "source": []
  }
 ],
 "metadata": {
  "kernelspec": {
   "display_name": "RAFT",
   "language": "python",
   "name": "python3"
  },
  "language_info": {
   "codemirror_mode": {
    "name": "ipython",
    "version": 3
   },
   "file_extension": ".py",
   "mimetype": "text/x-python",
   "name": "python",
   "nbconvert_exporter": "python",
   "pygments_lexer": "ipython3",
   "version": "3.12.2"
  }
 },
 "nbformat": 4,
 "nbformat_minor": 2
}
