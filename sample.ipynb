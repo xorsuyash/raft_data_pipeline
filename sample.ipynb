{
 "cells": [
  {
   "cell_type": "code",
   "execution_count": 1,
   "metadata": {},
   "outputs": [],
   "source": [
    "import gdown\n",
    "import pandas as pd \n",
    "from datasets import load_dataset"
   ]
  },
  {
   "cell_type": "code",
   "execution_count": 4,
   "metadata": {},
   "outputs": [],
   "source": [
    "file_url = 'https://drive.google.com/uc?id=1VlLcGWmDKAoK3aUthVXOFxzOdgzf-SNo'\n",
    "destination = 'datasets/Testing1.csv'\n",
    "#gdown.download(file_url, destination, quiet=False)\n",
    "raw_df = pd.read_csv(destination)\n",
    "raw_df['PID']  = raw_df.index.astype(str)"
   ]
  },
  {
   "cell_type": "code",
   "execution_count": 5,
   "metadata": {},
   "outputs": [
    {
     "data": {
      "text/html": [
       "<div>\n",
       "<style scoped>\n",
       "    .dataframe tbody tr th:only-of-type {\n",
       "        vertical-align: middle;\n",
       "    }\n",
       "\n",
       "    .dataframe tbody tr th {\n",
       "        vertical-align: top;\n",
       "    }\n",
       "\n",
       "    .dataframe thead th {\n",
       "        text-align: right;\n",
       "    }\n",
       "</style>\n",
       "<table border=\"1\" class=\"dataframe\">\n",
       "  <thead>\n",
       "    <tr style=\"text-align: right;\">\n",
       "      <th></th>\n",
       "      <th>contentEmbedding</th>\n",
       "      <th>headingEmbedding</th>\n",
       "      <th>summaryEmbedding</th>\n",
       "      <th>chunkId</th>\n",
       "      <th>id</th>\n",
       "      <th>metaData</th>\n",
       "      <th>content</th>\n",
       "      <th>heading</th>\n",
       "      <th>image</th>\n",
       "      <th>pdfName</th>\n",
       "      <th>summary</th>\n",
       "      <th>type</th>\n",
       "      <th>createdAt</th>\n",
       "      <th>updatedAt</th>\n",
       "      <th>pdfId</th>\n",
       "      <th>userId</th>\n",
       "      <th>PID</th>\n",
       "    </tr>\n",
       "  </thead>\n",
       "  <tbody>\n",
       "    <tr>\n",
       "      <th>0</th>\n",
       "      <td>[-0.008306029,-0.010566313,-0.0044381265,-0.02...</td>\n",
       "      <td>[-0.008529991,-0.013875452,-0.008998305,-0.015...</td>\n",
       "      <td>[0.005171468,-0.016889796,-0.0038167087,-0.010...</td>\n",
       "      <td>2</td>\n",
       "      <td>8</td>\n",
       "      <td>{\\n  'endPage': '4',\\n  'startPage': '4'\\n}</td>\n",
       "      <td>'5. Mealy bug , Brevennia rehi , Pseudococcida...</td>\n",
       "      <td>'4. Whitebacked planthopper, Sogatella furcife...</td>\n",
       "      <td>NaN</td>\n",
       "      <td>NaN</td>\n",
       "      <td>'The whitebacked planthopper, Sogatella furcif...</td>\n",
       "      <td>NaN</td>\n",
       "      <td>'2023-11-21T06:43:04.36+00:00'</td>\n",
       "      <td>'2023-11-21T06:43:04.36'</td>\n",
       "      <td>NaN</td>\n",
       "      <td>NaN</td>\n",
       "      <td>0</td>\n",
       "    </tr>\n",
       "  </tbody>\n",
       "</table>\n",
       "</div>"
      ],
      "text/plain": [
       "                                    contentEmbedding  ... PID\n",
       "0  [-0.008306029,-0.010566313,-0.0044381265,-0.02...  ...   0\n",
       "\n",
       "[1 rows x 17 columns]"
      ]
     },
     "execution_count": 5,
     "metadata": {},
     "output_type": "execute_result"
    }
   ],
   "source": [
    "raw_df.head(1)"
   ]
  },
  {
   "cell_type": "code",
   "execution_count": null,
   "metadata": {},
   "outputs": [],
   "source": []
  }
 ],
 "metadata": {
  "kernelspec": {
   "display_name": "RAFT",
   "language": "python",
   "name": "python3"
  },
  "language_info": {
   "codemirror_mode": {
    "name": "ipython",
    "version": 3
   },
   "file_extension": ".py",
   "mimetype": "text/x-python",
   "name": "python",
   "nbconvert_exporter": "python",
   "pygments_lexer": "ipython3",
   "version": "3.12.2"
  }
 },
 "nbformat": 4,
 "nbformat_minor": 2
}
